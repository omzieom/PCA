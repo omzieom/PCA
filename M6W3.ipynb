{
 "cells": [
  {
   "cell_type": "markdown",
   "metadata": {},
   "source": [
    "## M6W3 - Unsupervised Learning\n",
    "\n",
    "One of the main applications of unsupervised learning is dimensionality reduction / feature selection. Often it is a step preceding building a supervised learning model with labelled data. Other times, we don’t have a label but still need to perform dimensionality reduction and/or find clusters in the data.\n",
    "\n",
    "In this assignment, I have been asked to work on the Mercedes- Benz Greener Manufacturing challenge from Kaggle:\n",
    "\n",
    "The data has been anonymised and there is target, called ‘y’ but we will not be training a supervised model in this assignment.\n",
    "\n",
    "I will perform a principle component analysis (PCA) and answer the following questions:\n",
    "\n",
    "1) How many components will you choose based on an explained variance ratio of your choice? Plot the proportion of explained variance and the number of components.\n",
    "\n",
    "One downside of PCA is that it maps all the original features to a lower dimensional space, resulting in less interpretable features. Let’s say we want to use the result of the PCA but still work with the original features. Here is what I will do:\n",
    "\n",
    "2) Using the selected number of components, find which features of the original data have the highest absolute correlation with each of the components. Select features with absolute correlation with the PCA components of at least 0,75. How many and which features will you end up with?"
   ]
  },
  {
   "cell_type": "code",
   "execution_count": 1,
   "metadata": {},
   "outputs": [],
   "source": [
    "#Import required packages\n",
    "import pandas as pd\n",
    "from sklearn.decomposition import PCA\n",
    "from sklearn.preprocessing import StandardScaler\n",
    "from sklearn.pipeline import make_pipeline\n",
    "import matplotlib.pyplot as plt\n",
    "from scipy.stats import pearsonr"
   ]
  },
  {
   "cell_type": "code",
   "execution_count": 2,
   "metadata": {},
   "outputs": [
    {
     "name": "stdout",
     "output_type": "stream",
     "text": [
      "Data shape:  (4209, 378) \n",
      "\n",
      "<bound method NDFrame.head of         ID       y  X0 X1  X2 X3 X4  X5 X6 X8  ...  X375  X376  X377  X378  \\\n",
      "0        0  130.81   k  v  at  a  d   u  j  o  ...     0     0     1     0   \n",
      "1        6   88.53   k  t  av  e  d   y  l  o  ...     1     0     0     0   \n",
      "2        7   76.26  az  w   n  c  d   x  j  x  ...     0     0     0     0   \n",
      "3        9   80.62  az  t   n  f  d   x  l  e  ...     0     0     0     0   \n",
      "4       13   78.02  az  v   n  f  d   h  d  n  ...     0     0     0     0   \n",
      "...    ...     ...  .. ..  .. .. ..  .. .. ..  ...   ...   ...   ...   ...   \n",
      "4204  8405  107.39  ak  s  as  c  d  aa  d  q  ...     1     0     0     0   \n",
      "4205  8406  108.77   j  o   t  d  d  aa  h  h  ...     0     1     0     0   \n",
      "4206  8412  109.22  ak  v   r  a  d  aa  g  e  ...     0     0     1     0   \n",
      "4207  8415   87.48  al  r   e  f  d  aa  l  u  ...     0     0     0     0   \n",
      "4208  8417  110.85   z  r  ae  c  d  aa  g  w  ...     1     0     0     0   \n",
      "\n",
      "      X379  X380  X382  X383  X384  X385  \n",
      "0        0     0     0     0     0     0  \n",
      "1        0     0     0     0     0     0  \n",
      "2        0     0     1     0     0     0  \n",
      "3        0     0     0     0     0     0  \n",
      "4        0     0     0     0     0     0  \n",
      "...    ...   ...   ...   ...   ...   ...  \n",
      "4204     0     0     0     0     0     0  \n",
      "4205     0     0     0     0     0     0  \n",
      "4206     0     0     0     0     0     0  \n",
      "4207     0     0     0     0     0     0  \n",
      "4208     0     0     0     0     0     0  \n",
      "\n",
      "[4209 rows x 378 columns]> \n",
      "\n",
      "<class 'pandas.core.frame.DataFrame'>\n",
      "RangeIndex: 4209 entries, 0 to 4208\n",
      "Columns: 378 entries, ID to X385\n",
      "dtypes: float64(1), int64(369), object(8)\n",
      "memory usage: 12.1+ MB\n",
      "None\n"
     ]
    }
   ],
   "source": [
    "#Import the data\n",
    "df = pd.read_csv('train.csv')\n",
    "print('Data shape: ', df.shape, '\\n')\n",
    "print(df.head, '\\n')\n",
    "print(df.info())"
   ]
  },
  {
   "cell_type": "code",
   "execution_count": 3,
   "metadata": {},
   "outputs": [
    {
     "name": "stdout",
     "output_type": "stream",
     "text": [
      "   ID       y  X10  X11  X12  X13  X14  X15  X16  X17  ...  X8_p  X8_q  X8_r  \\\n",
      "0   0  130.81    0    0    0    1    0    0    0    0  ...     0     0     0   \n",
      "1   6   88.53    0    0    0    0    0    0    0    0  ...     0     0     0   \n",
      "2   7   76.26    0    0    0    0    0    0    0    1  ...     0     0     0   \n",
      "3   9   80.62    0    0    0    0    0    0    0    0  ...     0     0     0   \n",
      "4  13   78.02    0    0    0    0    0    0    0    0  ...     0     0     0   \n",
      "\n",
      "   X8_s  X8_t  X8_u  X8_v  X8_w  X8_x  X8_y  \n",
      "0     0     0     0     0     0     0     0  \n",
      "1     0     0     0     0     0     0     0  \n",
      "2     0     0     0     0     0     1     0  \n",
      "3     0     0     0     0     0     0     0  \n",
      "4     0     0     0     0     0     0     0  \n",
      "\n",
      "[5 rows x 565 columns]\n"
     ]
    }
   ],
   "source": [
    "#There are columns containing non-numerical values\n",
    "#I will remove using get_dummies to convert to indicator variables\n",
    "df = pd.get_dummies(df)\n",
    "print(df.head())"
   ]
  },
  {
   "cell_type": "code",
   "execution_count": 4,
   "metadata": {},
   "outputs": [
    {
     "name": "stdout",
     "output_type": "stream",
     "text": [
      "Series([], dtype: int64)\n"
     ]
    }
   ],
   "source": [
    "#Look for missing values\n",
    "nullseries = df.isnull().sum()\n",
    "print(nullseries[nullseries > 0])"
   ]
  },
  {
   "cell_type": "markdown",
   "metadata": {},
   "source": [
    "There are no missing values to deal with in this data and on inspection the data looks to be in order.\n",
    "\n",
    "I have not included the `test.csv` data as it does not have any values for `y` which is the time taken to pass and may prove to be a valuable feature.\n",
    "\n",
    "I will use `StandardScaler` to normalise the values in `y`."
   ]
  },
  {
   "cell_type": "code",
   "execution_count": 5,
   "metadata": {},
   "outputs": [
    {
     "data": {
      "image/png": "[encoded data removed]",
      "text/plain": [
       "<Figure size 720x720 with 1 Axes>"
      ]
     },
     "metadata": {
      "needs_background": "light"
     },
     "output_type": "display_data"
    }
   ],
   "source": [
    "#Build pipeline and plot components\n",
    "scaler = StandardScaler()\n",
    "#Using 30 to make things easier to view on chart\n",
    "pca = PCA(n_components=30)\n",
    "\n",
    "#Construct and fit pipeline\n",
    "pipeline = make_pipeline(scaler, pca)\n",
    "pipeline.fit(df)\n",
    "\n",
    "#Plot variance vs PCA feature\n",
    "features = range(pca.n_components)\n",
    "_ = plt.figure(figsize=(10,10))\n",
    "_ = plt.bar(features, pca.explained_variance_)\n",
    "_ = plt.xticks(rotation=90)\n",
    "_ = plt.xlabel('PCA feature')\n",
    "_ = plt.ylabel('variance')\n",
    "_ = plt.xticks(features)\n",
    "plt.show()"
   ]
  },
  {
   "cell_type": "markdown",
   "metadata": {},
   "source": [
    "I will use 1 components as it stands out above the rest.\n",
    "\n",
    "Let's double check this using the variance ratio to try and capture 95% of the variance."
   ]
  },
  {
   "cell_type": "code",
   "execution_count": 6,
   "metadata": {},
   "outputs": [
    {
     "data": {
      "image/png": "[encoded data removed]",
      "text/plain": [
       "<Figure size 432x288 with 1 Axes>"
      ]
     },
     "metadata": {
      "needs_background": "light"
     },
     "output_type": "display_data"
    },
    {
     "name": "stdout",
     "output_type": "stream",
     "text": [
      "How many components does the 95% explained variance retain:  1\n"
     ]
    }
   ],
   "source": [
    "#Plot explained variance vs. components\n",
    "plt.plot(pca.explained_variance_ratio_)\n",
    "plt.xlabel('number of components')\n",
    "plt.ylabel('proportion of variance')\n",
    "plt.show()\n",
    "\n",
    "#Confirm number of components needed for 95% variance\n",
    "pca_95 = PCA(n_components=0.95).fit(df)\n",
    "components_pca_95 = pca_95.transform(df)\n",
    "print('How many components does the 95% explained variance retain:  {}'.format(components_pca_95.shape[1]))"
   ]
  },
  {
   "cell_type": "markdown",
   "metadata": {},
   "source": [
    "From the above it is shown that only one component is needed to capture 95% of the variance.\n",
    "\n",
    "Next let's check where we have features with absolute correlation with the PCA components of at least 0.75."
   ]
  },
  {
   "cell_type": "code",
   "execution_count": 7,
   "metadata": {},
   "outputs": [
    {
     "data": {
      "text/html": [
       "<div>\n",
       "<style scoped>\n",
       "    .dataframe tbody tr th:only-of-type {\n",
       "        vertical-align: middle;\n",
       "    }\n",
       "\n",
       "    .dataframe tbody tr th {\n",
       "        vertical-align: top;\n",
       "    }\n",
       "\n",
       "    .dataframe thead th {\n",
       "        text-align: right;\n",
       "    }\n",
       "</style>\n",
       "<table border=\"1\" class=\"dataframe\">\n",
       "  <thead>\n",
       "    <tr style=\"text-align: right;\">\n",
       "      <th></th>\n",
       "      <th>PC1</th>\n",
       "    </tr>\n",
       "  </thead>\n",
       "  <tbody>\n",
       "    <tr>\n",
       "      <td>0</td>\n",
       "      <td>13.269610</td>\n",
       "    </tr>\n",
       "    <tr>\n",
       "      <td>1</td>\n",
       "      <td>0.116963</td>\n",
       "    </tr>\n",
       "    <tr>\n",
       "      <td>2</td>\n",
       "      <td>9.680697</td>\n",
       "    </tr>\n",
       "    <tr>\n",
       "      <td>3</td>\n",
       "      <td>6.835369</td>\n",
       "    </tr>\n",
       "    <tr>\n",
       "      <td>4</td>\n",
       "      <td>6.210277</td>\n",
       "    </tr>\n",
       "  </tbody>\n",
       "</table>\n",
       "</div>"
      ],
      "text/plain": [
       "         PC1\n",
       "0  13.269610\n",
       "1   0.116963\n",
       "2   9.680697\n",
       "3   6.835369\n",
       "4   6.210277"
      ]
     },
     "execution_count": 7,
     "metadata": {},
     "output_type": "execute_result"
    }
   ],
   "source": [
    "pca2 = PCA(n_components=1)\n",
    "pipeline2 = make_pipeline(scaler, pca2)\n",
    "trans_data = pipeline2.fit_transform(df)\n",
    "\n",
    "#Convert to pandas DataFrame\n",
    "df_pca = pd.DataFrame(trans_data, columns = ['PC1'])\n",
    "df_pca.head()"
   ]
  },
  {
   "cell_type": "code",
   "execution_count": 8,
   "metadata": {},
   "outputs": [
    {
     "name": "stdout",
     "output_type": "stream",
     "text": [
      "            PC1\n",
      "X48    0.846314\n",
      "X66    0.838329\n",
      "X80    0.856704\n",
      "X98    0.758956\n",
      "X101   0.786530\n",
      "X111   0.844085\n",
      "X113   0.846314\n",
      "X126   0.849211\n",
      "X128   0.836025\n",
      "X130   0.836025\n",
      "X134   0.846314\n",
      "X147   0.846314\n",
      "X170   0.788379\n",
      "X179   0.797814\n",
      "X198   0.846949\n",
      "X222   0.846314\n",
      "X264   0.848056\n",
      "X265   0.779029\n",
      "X348   0.858494\n",
      "X0_ap  0.840488\n",
      "X2_s   0.846314\n",
      "Features we would be left with at an absolute correlation of at least 0.75:  21\n"
     ]
    }
   ],
   "source": [
    "#Let's find the correlation between original data and principal component\n",
    "corr_pc = pd.DataFrame(df.corrwith(df_pca['PC1']), columns = ['PC1'])\n",
    "corr_pc = corr_pc.abs()\n",
    "\n",
    "#Next let's find where they have an absolute correlation of at least 0.75\n",
    "print(corr_pc[corr_pc['PC1'] >= 0.75])\n",
    "print('Features we would be left with at an absolute correlation of at least 0.75: ', len(corr_pc[corr_pc['PC1'] >= 0.75]))"
   ]
  }
 ],
 "metadata": {
  "kernelspec": {
   "display_name": "Python 3",
   "language": "python",
   "name": "python3"
  },
  "language_info": {
   "codemirror_mode": {
    "name": "ipython",
    "version": 3
   },
   "file_extension": ".py",
   "mimetype": "text/x-python",
   "name": "python",
   "nbconvert_exporter": "python",
   "pygments_lexer": "ipython3",
   "version": "3.7.4"
  }
 },
 "nbformat": 4,
 "nbformat_minor": 2
}
